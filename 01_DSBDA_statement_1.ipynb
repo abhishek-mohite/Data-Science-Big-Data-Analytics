{
 "cells": [
  {
   "cell_type": "code",
   "execution_count": null,
   "id": "a81e1004-4c1e-4a6d-a344-63ec84711e39",
   "metadata": {},
   "outputs": [],
   "source": [
    "# 1.\tPerform\tthe\tfollowing\toperations\tusing\tPython\ton\tdataset Salary_Data.csv (Experience, Salary)\n",
    "# 2.\tPrint all data from Salary_Data.csv\n",
    "# 3.\tFind the empty cell from Salary_Data.csv\n",
    "# 4.\tCount the missing values from column Experience\n",
    "# 5.\tList the Descriptive Statistics for given dataset\n",
    "# 6.\tReset the default index of given dataset\n"
   ]
  },
  {
   "cell_type": "code",
   "execution_count": 20,
   "id": "f04acc6c-22f8-4c78-b7a0-bf86ac34c5e2",
   "metadata": {},
   "outputs": [],
   "source": [
    "import pandas as pd\n",
    "import numpy as np"
   ]
  },
  {
   "cell_type": "code",
   "execution_count": 19,
   "id": "d8a7366f-0a62-4900-8c71-1ca5d8105f43",
   "metadata": {},
   "outputs": [
    {
     "name": "stdout",
     "output_type": "stream",
     "text": [
      "    YearsExperience    Salary\n",
      "0               1.1   39343.0\n",
      "1               1.3   46205.0\n",
      "2               1.5   37731.0\n",
      "3               2.0   43525.0\n",
      "4               2.2   39891.0\n",
      "5               2.9   56642.0\n",
      "6               3.0   60150.0\n",
      "7               3.2   54445.0\n",
      "8               3.2       NaN\n",
      "9               3.7   57189.0\n",
      "10              3.9   63218.0\n",
      "11              4.0   55794.0\n",
      "12              NaN   56957.0\n",
      "13              4.1   57081.0\n",
      "14              4.5   61111.0\n",
      "15              4.9   67938.0\n",
      "16              5.1       NaN\n",
      "17              5.3   83088.0\n",
      "18              5.9   81363.0\n",
      "19              6.0   93940.0\n",
      "20              NaN   91738.0\n",
      "21              7.1   98273.0\n",
      "22              7.9  101302.0\n",
      "23              8.2  113812.0\n",
      "24              8.7  109431.0\n",
      "25              9.0  105582.0\n",
      "26              9.5  116969.0\n",
      "27              9.6  112635.0\n",
      "28             10.3  122391.0\n",
      "29             10.5  121872.0\n"
     ]
    }
   ],
   "source": [
    "# Print all data from Salary_Data.csv\n",
    "df=pd.read_csv('Salary_Data.csv')\n",
    "# df\n",
    "print(df)"
   ]
  },
  {
   "cell_type": "code",
   "execution_count": 18,
   "id": "e5180e6d-a068-49f0-ab2b-00eb1fd97088",
   "metadata": {},
   "outputs": [
    {
     "name": "stdout",
     "output_type": "stream",
     "text": [
      "    YearsExperience   Salary\n",
      "8               3.2      NaN\n",
      "12              NaN  56957.0\n",
      "16              5.1      NaN\n",
      "20              NaN  91738.0\n"
     ]
    }
   ],
   "source": [
    "#3.\tFind the empty cell from Salary_Data.csv\n",
    "\n",
    "df = pd.read_csv('Salary_Data.csv')\n",
    "\n",
    "# Find empty cells\n",
    "empty_cells = df.isnull().any()\n",
    "empty_cells\n",
    "null_values = df[df[\"Salary\"].isnull() | df[\"YearsExperience\"].isnull()]\n",
    "print(null_values)"
   ]
  },
  {
   "cell_type": "code",
   "execution_count": 8,
   "id": "a1eee153-5ff3-4fab-bef1-ecfc64a6421a",
   "metadata": {},
   "outputs": [
    {
     "data": {
      "text/plain": [
       "0"
      ]
     },
     "execution_count": 8,
     "metadata": {},
     "output_type": "execute_result"
    }
   ],
   "source": [
    "#4.\tCount the missing values from column Experience\n",
    "df['YearsExperience'].isnull().sum()"
   ]
  },
  {
   "cell_type": "code",
   "execution_count": 23,
   "id": "7e64c809-2900-4416-80b9-e2d2a778fc7d",
   "metadata": {},
   "outputs": [
    {
     "name": "stdout",
     "output_type": "stream",
     "text": [
      "       YearsExperience         Salary\n",
      "count        28.000000      28.000000\n",
      "mean          5.307143   76772.000000\n",
      "std           2.916229   28248.468791\n",
      "min           1.100000   37731.000000\n",
      "25%           3.150000   56430.000000\n",
      "50%           4.700000   65578.000000\n",
      "75%           7.975000  102372.000000\n",
      "max          10.500000  122391.000000\n",
      "       YearsExperience         Salary\n",
      "count        28.000000      28.000000\n",
      "mean          5.307143   76772.000000\n",
      "std           2.916229   28248.468791\n",
      "min           1.100000   37731.000000\n",
      "25%           3.150000   56430.000000\n",
      "50%           4.700000   65578.000000\n",
      "75%           7.975000  102372.000000\n",
      "max          10.500000  122391.000000\n"
     ]
    }
   ],
   "source": [
    "#5.\tList the Descriptive Statistics for given dataset\n",
    "df=pd.read_csv('Salary_Data.csv')\n",
    "description=df.describe();\n",
    "print(description)\n",
    "all_desc=df.describe(include='all')\n",
    "print(all_desc)"
   ]
  },
  {
   "cell_type": "code",
   "execution_count": 22,
   "id": "900f3673-32c6-4860-a0be-e47719fc3625",
   "metadata": {},
   "outputs": [
    {
     "name": "stdout",
     "output_type": "stream",
     "text": [
      "    YearsExperience    Salary\n",
      "1               1.1   39343.0\n",
      "2               1.3   46205.0\n",
      "3               1.5   37731.0\n",
      "4               2.0   43525.0\n",
      "5               2.2   39891.0\n",
      "6               2.9   56642.0\n",
      "7               3.0   60150.0\n",
      "8               3.2   54445.0\n",
      "9               3.2       NaN\n",
      "10              3.7   57189.0\n",
      "11              3.9   63218.0\n",
      "12              4.0   55794.0\n",
      "13              NaN   56957.0\n",
      "14              4.1   57081.0\n",
      "15              4.5   61111.0\n",
      "16              4.9   67938.0\n",
      "17              5.1       NaN\n",
      "18              5.3   83088.0\n",
      "19              5.9   81363.0\n",
      "20              6.0   93940.0\n",
      "21              NaN   91738.0\n",
      "22              7.1   98273.0\n",
      "23              7.9  101302.0\n",
      "24              8.2  113812.0\n",
      "25              8.7  109431.0\n",
      "26              9.0  105582.0\n",
      "27              9.5  116969.0\n",
      "28              9.6  112635.0\n",
      "29             10.3  122391.0\n",
      "30             10.5  121872.0\n"
     ]
    }
   ],
   "source": [
    "#6.\tReset the default index of given dataset\n",
    "df.reset_index(drop=True, inplace=True)\n",
    "df.index = df.index + 1\n",
    "\n",
    "print(df)"
   ]
  },
  {
   "cell_type": "code",
   "execution_count": 17,
   "id": "26da450b-1d6b-46e4-a0a2-ddcec4c0dd37",
   "metadata": {},
   "outputs": [],
   "source": [
    "# reset_index(): This is a method provided by pandas DataFrame objects to reset the index of the DataFrame. By default, it moves the current index to a new column and resets the index to the default integer index (starting from 0).\n",
    "# drop=True: This parameter is set to True to drop the current index column after resetting the index. If it's set to False or omitted, the current index will be retained as a new column in the DataFrame.\n",
    "# inplace=True: This parameter is set to True to modify the DataFrame in place, meaning that the operation will be performed on the DataFrame itself and won't return a new DataFrame. If it's set to False, a new DataFrame with the reset index will be returned."
   ]
  },
  {
   "cell_type": "code",
   "execution_count": null,
   "id": "be936681-fcfe-4100-be98-8c688250b1d9",
   "metadata": {},
   "outputs": [],
   "source": []
  }
 ],
 "metadata": {
  "kernelspec": {
   "display_name": "Python 3 (ipykernel)",
   "language": "python",
   "name": "python3"
  },
  "language_info": {
   "codemirror_mode": {
    "name": "ipython",
    "version": 3
   },
   "file_extension": ".py",
   "mimetype": "text/x-python",
   "name": "python",
   "nbconvert_exporter": "python",
   "pygments_lexer": "ipython3",
   "version": "3.11.5"
  }
 },
 "nbformat": 4,
 "nbformat_minor": 5
}
