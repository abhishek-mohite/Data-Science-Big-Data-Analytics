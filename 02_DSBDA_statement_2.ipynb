{
 "cells": [
  {
   "cell_type": "code",
   "execution_count": null,
   "id": "b3c73b7e-1ca3-4bec-985c-a5d32437ce2c",
   "metadata": {},
   "outputs": [],
   "source": [
    "# 2.Perform\tthe\tfollowing\toperations\tusing\tPython\ton\tdataset Salary_Data.csv (Experience, Salary)\n",
    "# 1.\tPrint all data from Salary_Data.csv\n",
    "# 2.\tFind the empty cell from Salary_Data.csv\n",
    "# 3.\tCount the missing values from column Experience\n",
    "# 4.\tList the Descriptive Statistics for given dataset\n",
    "# 5.\tReset the default index of given dataset\n",
    "\n"
   ]
  },
  {
   "cell_type": "code",
   "execution_count": 2,
   "id": "77641e66-6d91-45a7-9b90-3d2d054a910e",
   "metadata": {},
   "outputs": [
    {
     "data": {
      "text/html": [
       "<div>\n",
       "<style scoped>\n",
       "    .dataframe tbody tr th:only-of-type {\n",
       "        vertical-align: middle;\n",
       "    }\n",
       "\n",
       "    .dataframe tbody tr th {\n",
       "        vertical-align: top;\n",
       "    }\n",
       "\n",
       "    .dataframe thead th {\n",
       "        text-align: right;\n",
       "    }\n",
       "</style>\n",
       "<table border=\"1\" class=\"dataframe\">\n",
       "  <thead>\n",
       "    <tr style=\"text-align: right;\">\n",
       "      <th></th>\n",
       "      <th>YearsExperience</th>\n",
       "      <th>Salary</th>\n",
       "    </tr>\n",
       "  </thead>\n",
       "  <tbody>\n",
       "    <tr>\n",
       "      <th>0</th>\n",
       "      <td>1.1</td>\n",
       "      <td>39343.0</td>\n",
       "    </tr>\n",
       "    <tr>\n",
       "      <th>1</th>\n",
       "      <td>1.3</td>\n",
       "      <td>46205.0</td>\n",
       "    </tr>\n",
       "    <tr>\n",
       "      <th>2</th>\n",
       "      <td>1.5</td>\n",
       "      <td>37731.0</td>\n",
       "    </tr>\n",
       "    <tr>\n",
       "      <th>3</th>\n",
       "      <td>2.0</td>\n",
       "      <td>43525.0</td>\n",
       "    </tr>\n",
       "    <tr>\n",
       "      <th>4</th>\n",
       "      <td>2.2</td>\n",
       "      <td>39891.0</td>\n",
       "    </tr>\n",
       "    <tr>\n",
       "      <th>5</th>\n",
       "      <td>2.9</td>\n",
       "      <td>56642.0</td>\n",
       "    </tr>\n",
       "    <tr>\n",
       "      <th>6</th>\n",
       "      <td>3.0</td>\n",
       "      <td>60150.0</td>\n",
       "    </tr>\n",
       "    <tr>\n",
       "      <th>7</th>\n",
       "      <td>3.2</td>\n",
       "      <td>54445.0</td>\n",
       "    </tr>\n",
       "    <tr>\n",
       "      <th>8</th>\n",
       "      <td>3.2</td>\n",
       "      <td>NaN</td>\n",
       "    </tr>\n",
       "    <tr>\n",
       "      <th>9</th>\n",
       "      <td>3.7</td>\n",
       "      <td>57189.0</td>\n",
       "    </tr>\n",
       "    <tr>\n",
       "      <th>10</th>\n",
       "      <td>3.9</td>\n",
       "      <td>63218.0</td>\n",
       "    </tr>\n",
       "    <tr>\n",
       "      <th>11</th>\n",
       "      <td>4.0</td>\n",
       "      <td>55794.0</td>\n",
       "    </tr>\n",
       "    <tr>\n",
       "      <th>12</th>\n",
       "      <td>NaN</td>\n",
       "      <td>56957.0</td>\n",
       "    </tr>\n",
       "    <tr>\n",
       "      <th>13</th>\n",
       "      <td>4.1</td>\n",
       "      <td>57081.0</td>\n",
       "    </tr>\n",
       "    <tr>\n",
       "      <th>14</th>\n",
       "      <td>4.5</td>\n",
       "      <td>61111.0</td>\n",
       "    </tr>\n",
       "    <tr>\n",
       "      <th>15</th>\n",
       "      <td>4.9</td>\n",
       "      <td>67938.0</td>\n",
       "    </tr>\n",
       "    <tr>\n",
       "      <th>16</th>\n",
       "      <td>5.1</td>\n",
       "      <td>NaN</td>\n",
       "    </tr>\n",
       "    <tr>\n",
       "      <th>17</th>\n",
       "      <td>5.3</td>\n",
       "      <td>83088.0</td>\n",
       "    </tr>\n",
       "    <tr>\n",
       "      <th>18</th>\n",
       "      <td>5.9</td>\n",
       "      <td>81363.0</td>\n",
       "    </tr>\n",
       "    <tr>\n",
       "      <th>19</th>\n",
       "      <td>6.0</td>\n",
       "      <td>93940.0</td>\n",
       "    </tr>\n",
       "    <tr>\n",
       "      <th>20</th>\n",
       "      <td>NaN</td>\n",
       "      <td>91738.0</td>\n",
       "    </tr>\n",
       "    <tr>\n",
       "      <th>21</th>\n",
       "      <td>7.1</td>\n",
       "      <td>98273.0</td>\n",
       "    </tr>\n",
       "    <tr>\n",
       "      <th>22</th>\n",
       "      <td>7.9</td>\n",
       "      <td>101302.0</td>\n",
       "    </tr>\n",
       "    <tr>\n",
       "      <th>23</th>\n",
       "      <td>8.2</td>\n",
       "      <td>113812.0</td>\n",
       "    </tr>\n",
       "    <tr>\n",
       "      <th>24</th>\n",
       "      <td>8.7</td>\n",
       "      <td>109431.0</td>\n",
       "    </tr>\n",
       "    <tr>\n",
       "      <th>25</th>\n",
       "      <td>9.0</td>\n",
       "      <td>105582.0</td>\n",
       "    </tr>\n",
       "    <tr>\n",
       "      <th>26</th>\n",
       "      <td>9.5</td>\n",
       "      <td>116969.0</td>\n",
       "    </tr>\n",
       "    <tr>\n",
       "      <th>27</th>\n",
       "      <td>9.6</td>\n",
       "      <td>112635.0</td>\n",
       "    </tr>\n",
       "    <tr>\n",
       "      <th>28</th>\n",
       "      <td>10.3</td>\n",
       "      <td>122391.0</td>\n",
       "    </tr>\n",
       "    <tr>\n",
       "      <th>29</th>\n",
       "      <td>10.5</td>\n",
       "      <td>121872.0</td>\n",
       "    </tr>\n",
       "  </tbody>\n",
       "</table>\n",
       "</div>"
      ],
      "text/plain": [
       "    YearsExperience    Salary\n",
       "0               1.1   39343.0\n",
       "1               1.3   46205.0\n",
       "2               1.5   37731.0\n",
       "3               2.0   43525.0\n",
       "4               2.2   39891.0\n",
       "5               2.9   56642.0\n",
       "6               3.0   60150.0\n",
       "7               3.2   54445.0\n",
       "8               3.2       NaN\n",
       "9               3.7   57189.0\n",
       "10              3.9   63218.0\n",
       "11              4.0   55794.0\n",
       "12              NaN   56957.0\n",
       "13              4.1   57081.0\n",
       "14              4.5   61111.0\n",
       "15              4.9   67938.0\n",
       "16              5.1       NaN\n",
       "17              5.3   83088.0\n",
       "18              5.9   81363.0\n",
       "19              6.0   93940.0\n",
       "20              NaN   91738.0\n",
       "21              7.1   98273.0\n",
       "22              7.9  101302.0\n",
       "23              8.2  113812.0\n",
       "24              8.7  109431.0\n",
       "25              9.0  105582.0\n",
       "26              9.5  116969.0\n",
       "27              9.6  112635.0\n",
       "28             10.3  122391.0\n",
       "29             10.5  121872.0"
      ]
     },
     "execution_count": 2,
     "metadata": {},
     "output_type": "execute_result"
    }
   ],
   "source": [
    "#Print all data from Salary_Data.csv\n",
    "import pandas as pd\n",
    "import numpy as np\n",
    "df=pd.read_csv('Salary_Data.csv')\n",
    "df"
   ]
  },
  {
   "cell_type": "code",
   "execution_count": 8,
   "id": "306e2867-983b-4476-8a2a-51608adf9146",
   "metadata": {},
   "outputs": [
    {
     "name": "stdout",
     "output_type": "stream",
     "text": [
      "YearsExperience    True\n",
      "Salary             True\n",
      "dtype: bool\n"
     ]
    }
   ],
   "source": [
    "# 2.\tFind the empty cell from Salary_Data.csv\n",
    "null_data=df.isnull().any()\n",
    "print(null_data)"
   ]
  },
  {
   "cell_type": "code",
   "execution_count": 5,
   "id": "2853874b-560d-4718-9515-5ababbed26f5",
   "metadata": {},
   "outputs": [
    {
     "name": "stdout",
     "output_type": "stream",
     "text": [
      "    YearsExperience   Salary\n",
      "12              NaN  56957.0\n",
      "20              NaN  91738.0\n"
     ]
    }
   ],
   "source": [
    "nul_values=df[df['YearsExperience'].isnull()]\n",
    "print(nan_values)"
   ]
  },
  {
   "cell_type": "code",
   "execution_count": 6,
   "id": "0025671d-3420-462d-99d8-32c90399eea9",
   "metadata": {},
   "outputs": [
    {
     "name": "stdout",
     "output_type": "stream",
     "text": [
      "    YearsExperience  Salary\n",
      "8               3.2     NaN\n",
      "16              5.1     NaN\n"
     ]
    }
   ],
   "source": [
    "null_values=df[df[\"Salary\"].isnull()]\n",
    "print(null_values)"
   ]
  },
  {
   "cell_type": "code",
   "execution_count": 13,
   "id": "d62dafb0-7347-4d79-bde0-3570def52fba",
   "metadata": {},
   "outputs": [
    {
     "name": "stdout",
     "output_type": "stream",
     "text": [
      "    YearsExperience   Salary\n",
      "8               3.2      NaN\n",
      "12              NaN  56957.0\n",
      "16              5.1      NaN\n",
      "20              NaN  91738.0\n"
     ]
    }
   ],
   "source": [
    "null_values = df[df[\"Salary\"].isnull() | df[\"YearsExperience\"].isnull()]\n",
    "print(null_values)\n"
   ]
  },
  {
   "cell_type": "code",
   "execution_count": 15,
   "id": "980c3405-4a6b-40f4-8b40-22173685522c",
   "metadata": {},
   "outputs": [
    {
     "name": "stdout",
     "output_type": "stream",
     "text": [
      "    YearsExperience   Salary\n",
      "12              NaN  56957.0\n",
      "20              NaN  91738.0\n"
     ]
    }
   ],
   "source": [
    "#3.\tCount the missing values from column Experience\n",
    "null_column_expericence=df[df[\"YearsExperience\"].isnull()]\n",
    "print(null_column_expericence)"
   ]
  },
  {
   "cell_type": "code",
   "execution_count": 17,
   "id": "3561d3f8-57b1-46ee-adc8-f9dfd802fd45",
   "metadata": {},
   "outputs": [
    {
     "name": "stdout",
     "output_type": "stream",
     "text": [
      "       YearsExperience         Salary\n",
      "count        28.000000      28.000000\n",
      "mean          5.307143   76772.000000\n",
      "std           2.916229   28248.468791\n",
      "min           1.100000   37731.000000\n",
      "25%           3.150000   56430.000000\n",
      "50%           4.700000   65578.000000\n",
      "75%           7.975000  102372.000000\n",
      "max          10.500000  122391.000000\n"
     ]
    }
   ],
   "source": [
    "# 4.\tList the Descriptive Statistics for given dataset\n",
    "data=df.describe();\n",
    "print(data)"
   ]
  },
  {
   "cell_type": "code",
   "execution_count": 20,
   "id": "d9cd84ea-e499-48cb-a5b3-3b4124fe467e",
   "metadata": {},
   "outputs": [
    {
     "name": "stdout",
     "output_type": "stream",
     "text": [
      "    YearsExperience    Salary\n",
      "1               1.1   39343.0\n",
      "2               1.3   46205.0\n",
      "3               1.5   37731.0\n",
      "4               2.0   43525.0\n",
      "5               2.2   39891.0\n",
      "6               2.9   56642.0\n",
      "7               3.0   60150.0\n",
      "8               3.2   54445.0\n",
      "9               3.2       NaN\n",
      "10              3.7   57189.0\n",
      "11              3.9   63218.0\n",
      "12              4.0   55794.0\n",
      "13              NaN   56957.0\n",
      "14              4.1   57081.0\n",
      "15              4.5   61111.0\n",
      "16              4.9   67938.0\n",
      "17              5.1       NaN\n",
      "18              5.3   83088.0\n",
      "19              5.9   81363.0\n",
      "20              6.0   93940.0\n",
      "21              NaN   91738.0\n",
      "22              7.1   98273.0\n",
      "23              7.9  101302.0\n",
      "24              8.2  113812.0\n",
      "25              8.7  109431.0\n",
      "26              9.0  105582.0\n",
      "27              9.5  116969.0\n",
      "28              9.6  112635.0\n",
      "29             10.3  122391.0\n",
      "30             10.5  121872.0\n"
     ]
    }
   ],
   "source": [
    "df.reset_index(drop=True)\n",
    "df.index=df.index+1\n",
    "print(df)"
   ]
  },
  {
   "cell_type": "code",
   "execution_count": null,
   "id": "8a19e812-dac7-4177-91ac-73985e3e5dc7",
   "metadata": {},
   "outputs": [],
   "source": []
  }
 ],
 "metadata": {
  "kernelspec": {
   "display_name": "Python 3 (ipykernel)",
   "language": "python",
   "name": "python3"
  },
  "language_info": {
   "codemirror_mode": {
    "name": "ipython",
    "version": 3
   },
   "file_extension": ".py",
   "mimetype": "text/x-python",
   "name": "python",
   "nbconvert_exporter": "python",
   "pygments_lexer": "ipython3",
   "version": "3.11.5"
  }
 },
 "nbformat": 4,
 "nbformat_minor": 5
}
