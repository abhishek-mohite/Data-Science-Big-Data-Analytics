{
 "cells": [
  {
   "cell_type": "code",
   "execution_count": 1,
   "id": "686c973f-a953-4ca7-85f5-8a89682b6530",
   "metadata": {},
   "outputs": [],
   "source": [
    "# Create a Pandas Data frame with two columns (Value1 and Value2) with some Numeric and some Categorical values and perform following operation on it.\n",
    "\n",
    "# 1.\tConvert all values from data frame into float format and print it.\n",
    "# 2.\tDrop all the rows with the NaN values from data frame.\n",
    "# 3.\tReplace the NaN values with 0’s\n",
    "# 4.\tTranspose the given data frame.\n",
    "# 5.\tRename the default index with X, Y, Z and then transpose data frame.\n"
   ]
  },
  {
   "cell_type": "code",
   "execution_count": 10,
   "id": "f18601cb-2f65-4c8a-8410-e1e551b64479",
   "metadata": {},
   "outputs": [
    {
     "data": {
      "text/html": [
       "<div>\n",
       "<style scoped>\n",
       "    .dataframe tbody tr th:only-of-type {\n",
       "        vertical-align: middle;\n",
       "    }\n",
       "\n",
       "    .dataframe tbody tr th {\n",
       "        vertical-align: top;\n",
       "    }\n",
       "\n",
       "    .dataframe thead th {\n",
       "        text-align: right;\n",
       "    }\n",
       "</style>\n",
       "<table border=\"1\" class=\"dataframe\">\n",
       "  <thead>\n",
       "    <tr style=\"text-align: right;\">\n",
       "      <th></th>\n",
       "      <th>Value1</th>\n",
       "      <th>Value2</th>\n",
       "    </tr>\n",
       "  </thead>\n",
       "  <tbody>\n",
       "    <tr>\n",
       "      <th>0</th>\n",
       "      <td>1</td>\n",
       "      <td>4</td>\n",
       "    </tr>\n",
       "    <tr>\n",
       "      <th>1</th>\n",
       "      <td>sham</td>\n",
       "      <td>rani</td>\n",
       "    </tr>\n",
       "    <tr>\n",
       "      <th>2</th>\n",
       "      <td>3</td>\n",
       "      <td>6</td>\n",
       "    </tr>\n",
       "    <tr>\n",
       "      <th>3</th>\n",
       "      <td>4</td>\n",
       "      <td>3</td>\n",
       "    </tr>\n",
       "    <tr>\n",
       "      <th>4</th>\n",
       "      <td>5</td>\n",
       "      <td>6</td>\n",
       "    </tr>\n",
       "    <tr>\n",
       "      <th>5</th>\n",
       "      <td>raj</td>\n",
       "      <td>3</td>\n",
       "    </tr>\n",
       "    <tr>\n",
       "      <th>6</th>\n",
       "      <td>4</td>\n",
       "      <td>geeta</td>\n",
       "    </tr>\n",
       "  </tbody>\n",
       "</table>\n",
       "</div>"
      ],
      "text/plain": [
       "  Value1 Value2\n",
       "0      1      4\n",
       "1   sham   rani\n",
       "2      3      6\n",
       "3      4      3\n",
       "4      5      6\n",
       "5    raj      3\n",
       "6      4  geeta"
      ]
     },
     "execution_count": 10,
     "metadata": {},
     "output_type": "execute_result"
    }
   ],
   "source": [
    "import pandas as pd\n",
    "import numpy as np\n",
    "data={'Value1':[1,\"sham\",3,4,5,\"raj\",4],\n",
    "      'Value2':[4,\"rani\",6,3,6,3,\"geeta\"]}\n",
    "df=pd.DataFrame(data)\n",
    "df"
   ]
  },
  {
   "cell_type": "code",
   "execution_count": 11,
   "id": "53f8e5f2-228b-4dbe-92e9-628683260545",
   "metadata": {},
   "outputs": [
    {
     "data": {
      "text/html": [
       "<div>\n",
       "<style scoped>\n",
       "    .dataframe tbody tr th:only-of-type {\n",
       "        vertical-align: middle;\n",
       "    }\n",
       "\n",
       "    .dataframe tbody tr th {\n",
       "        vertical-align: top;\n",
       "    }\n",
       "\n",
       "    .dataframe thead th {\n",
       "        text-align: right;\n",
       "    }\n",
       "</style>\n",
       "<table border=\"1\" class=\"dataframe\">\n",
       "  <thead>\n",
       "    <tr style=\"text-align: right;\">\n",
       "      <th></th>\n",
       "      <th>Value1</th>\n",
       "      <th>Value2</th>\n",
       "    </tr>\n",
       "  </thead>\n",
       "  <tbody>\n",
       "    <tr>\n",
       "      <th>0</th>\n",
       "      <td>1.0</td>\n",
       "      <td>4.0</td>\n",
       "    </tr>\n",
       "    <tr>\n",
       "      <th>1</th>\n",
       "      <td>NaN</td>\n",
       "      <td>NaN</td>\n",
       "    </tr>\n",
       "    <tr>\n",
       "      <th>2</th>\n",
       "      <td>3.0</td>\n",
       "      <td>6.0</td>\n",
       "    </tr>\n",
       "    <tr>\n",
       "      <th>3</th>\n",
       "      <td>4.0</td>\n",
       "      <td>3.0</td>\n",
       "    </tr>\n",
       "    <tr>\n",
       "      <th>4</th>\n",
       "      <td>5.0</td>\n",
       "      <td>6.0</td>\n",
       "    </tr>\n",
       "    <tr>\n",
       "      <th>5</th>\n",
       "      <td>NaN</td>\n",
       "      <td>3.0</td>\n",
       "    </tr>\n",
       "    <tr>\n",
       "      <th>6</th>\n",
       "      <td>4.0</td>\n",
       "      <td>NaN</td>\n",
       "    </tr>\n",
       "  </tbody>\n",
       "</table>\n",
       "</div>"
      ],
      "text/plain": [
       "   Value1  Value2\n",
       "0     1.0     4.0\n",
       "1     NaN     NaN\n",
       "2     3.0     6.0\n",
       "3     4.0     3.0\n",
       "4     5.0     6.0\n",
       "5     NaN     3.0\n",
       "6     4.0     NaN"
      ]
     },
     "execution_count": 11,
     "metadata": {},
     "output_type": "execute_result"
    }
   ],
   "source": [
    "# 1.\tConvert all values from data frame into float format and print it.\n",
    "df=df.apply(pd.to_numeric,errors=\"coerce\")\n",
    "df"
   ]
  },
  {
   "cell_type": "code",
   "execution_count": 12,
   "id": "84144334-2cf3-48c8-bca6-9589b2f40325",
   "metadata": {},
   "outputs": [
    {
     "name": "stdout",
     "output_type": "stream",
     "text": [
      "   Value1  Value2\n",
      "0     1.0     4.0\n",
      "2     3.0     6.0\n",
      "3     4.0     3.0\n",
      "4     5.0     6.0\n"
     ]
    }
   ],
   "source": [
    "# 2.Drop all the rows with the NaN values from data frame.\n",
    "no_nan_df=df.dropna()\n",
    "print(no_nan_df)"
   ]
  },
  {
   "cell_type": "code",
   "execution_count": 14,
   "id": "77d3f3de-7712-4c1f-a3e5-6bb7421c915f",
   "metadata": {},
   "outputs": [
    {
     "name": "stdout",
     "output_type": "stream",
     "text": [
      "   Value1  Value2\n",
      "0     1.0     4.0\n",
      "1     0.0     0.0\n",
      "2     3.0     6.0\n",
      "3     4.0     3.0\n",
      "4     5.0     6.0\n",
      "5     0.0     3.0\n",
      "6     4.0     0.0\n"
     ]
    }
   ],
   "source": [
    "# 3.\tReplace the NaN values with 0’s\n",
    "fill_with_zero=df.fillna(0)\n",
    "print(fill_with_zero)"
   ]
  },
  {
   "cell_type": "code",
   "execution_count": 16,
   "id": "9231196a-6b0c-4344-b463-eb223429e10d",
   "metadata": {},
   "outputs": [
    {
     "name": "stdout",
     "output_type": "stream",
     "text": [
      "          0    1    2    3    4    5    6\n",
      "Value1  1.0  0.0  3.0  4.0  5.0  0.0  4.0\n",
      "Value2  4.0  0.0  6.0  3.0  6.0  3.0  0.0\n"
     ]
    }
   ],
   "source": [
    "# 4.\tTranspose the given data frame.\n",
    "transpose=fill_with_zero.transpose()\n",
    "print(transpose)"
   ]
  },
  {
   "cell_type": "code",
   "execution_count": 18,
   "id": "0f93b4a9-a6f4-43ac-b4f7-7e20b084209f",
   "metadata": {},
   "outputs": [
    {
     "data": {
      "text/html": [
       "<div>\n",
       "<style scoped>\n",
       "    .dataframe tbody tr th:only-of-type {\n",
       "        vertical-align: middle;\n",
       "    }\n",
       "\n",
       "    .dataframe tbody tr th {\n",
       "        vertical-align: top;\n",
       "    }\n",
       "\n",
       "    .dataframe thead th {\n",
       "        text-align: right;\n",
       "    }\n",
       "</style>\n",
       "<table border=\"1\" class=\"dataframe\">\n",
       "  <thead>\n",
       "    <tr style=\"text-align: right;\">\n",
       "      <th></th>\n",
       "      <th>Value1</th>\n",
       "      <th>Value2</th>\n",
       "    </tr>\n",
       "  </thead>\n",
       "  <tbody>\n",
       "    <tr>\n",
       "      <th>2</th>\n",
       "      <td>3.0</td>\n",
       "      <td>6.0</td>\n",
       "    </tr>\n",
       "    <tr>\n",
       "      <th>3</th>\n",
       "      <td>4.0</td>\n",
       "      <td>3.0</td>\n",
       "    </tr>\n",
       "    <tr>\n",
       "      <th>4</th>\n",
       "      <td>5.0</td>\n",
       "      <td>6.0</td>\n",
       "    </tr>\n",
       "  </tbody>\n",
       "</table>\n",
       "</div>"
      ],
      "text/plain": [
       "   Value1  Value2\n",
       "2     3.0     6.0\n",
       "3     4.0     3.0\n",
       "4     5.0     6.0"
      ]
     },
     "execution_count": 18,
     "metadata": {},
     "output_type": "execute_result"
    }
   ],
   "source": [
    "# 5.\tRename the default index with X, Y, Z and then transpose data frame.\n",
    "df=df.dropna();\n",
    "df"
   ]
  },
  {
   "cell_type": "code",
   "execution_count": 26,
   "id": "90a5b73a-efe5-42c2-8a59-300ab2461947",
   "metadata": {},
   "outputs": [
    {
     "name": "stdout",
     "output_type": "stream",
     "text": [
      "   Value1  Value2\n",
      "0     3.0     6.0\n",
      "1     4.0     3.0\n",
      "2     5.0     6.0\n",
      "\n",
      "\n",
      "   Value1  Value2\n",
      "X     3.0     6.0\n",
      "Y     4.0     3.0\n",
      "Z     5.0     6.0\n",
      "\n",
      "\n",
      "          X    Y    Z\n",
      "Value1  3.0  4.0  5.0\n",
      "Value2  6.0  3.0  6.0\n"
     ]
    }
   ],
   "source": [
    "# 5.\tRename the default index with X, Y, Z and then transpose data frame.\n",
    "df=df.reset_index(drop=True)\n",
    "print(df)\n",
    "df = df.rename(index={0: 'X', 1: 'Y', 2: 'Z'})\n",
    "print('\\n')\n",
    "print(df);\n",
    "transpose=df.transpose()\n",
    "print('\\n')\n",
    "print(transpose);\n"
   ]
  },
  {
   "cell_type": "code",
   "execution_count": null,
   "id": "58e75d82-49fc-469f-b979-fa12c5e82915",
   "metadata": {},
   "outputs": [],
   "source": []
  }
 ],
 "metadata": {
  "kernelspec": {
   "display_name": "Python 3 (ipykernel)",
   "language": "python",
   "name": "python3"
  },
  "language_info": {
   "codemirror_mode": {
    "name": "ipython",
    "version": 3
   },
   "file_extension": ".py",
   "mimetype": "text/x-python",
   "name": "python",
   "nbconvert_exporter": "python",
   "pygments_lexer": "ipython3",
   "version": "3.11.5"
  }
 },
 "nbformat": 4,
 "nbformat_minor": 5
}
