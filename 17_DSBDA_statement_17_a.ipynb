{
 "cells": [
  {
   "cell_type": "code",
   "execution_count": 1,
   "id": "59840a43-1922-452a-a8f1-8c77df89ef66",
   "metadata": {},
   "outputs": [],
   "source": [
    "# 1.\tExtract Sample document and apply following document preprocessing methods:\n",
    "# \tTokenization,\n",
    "# \tPOS Tagging,\n",
    "# \tstop words removal,\n",
    "# \tStemming and\n",
    "# \tLemmatization.\n"
   ]
  },
  {
   "cell_type": "code",
   "execution_count": 2,
   "id": "b9bcb118-1a34-4870-9883-ae85647de590",
   "metadata": {},
   "outputs": [
    {
     "name": "stdout",
     "output_type": "stream",
     "text": [
      "Hii this is the ganesh bodakhe \n"
     ]
    }
   ],
   "source": [
    "import docx\n",
    "doc=docx.Document('sample.docx')\n",
    "print(doc.paragraphs[0].text)"
   ]
  },
  {
   "cell_type": "code",
   "execution_count": 6,
   "id": "44a11f9c-d6ec-45a6-9bef-da4470eba4b1",
   "metadata": {},
   "outputs": [
    {
     "name": "stdout",
     "output_type": "stream",
     "text": [
      "Hii this is the ganesh bodakhe \n",
      "Hii raj\n",
      "Hii Seeta\n",
      "Hii raj \n",
      "This is the ganesh bodakeh.\n",
      "Hello every one the is the ganesh bodakhe.\n"
     ]
    }
   ],
   "source": [
    "doc=docx.Document('sample.docx')\n",
    "for i in doc.paragraphs:\n",
    "    print(i.text)\n"
   ]
  },
  {
   "cell_type": "code",
   "execution_count": 7,
   "id": "394c2544-8af3-498b-8fdd-57acbf65b51a",
   "metadata": {},
   "outputs": [
    {
     "data": {
      "text/plain": [
       "['Hii', 'this', 'is', 'the', 'ganesh', 'bodakhe']"
      ]
     },
     "execution_count": 7,
     "metadata": {},
     "output_type": "execute_result"
    }
   ],
   "source": [
    "# \tTokenization\n",
    "import nltk\n",
    "from nltk.tokenize import word_tokenize\n",
    "nltk.word_tokenize(doc.paragraphs[0].text)"
   ]
  },
  {
   "cell_type": "code",
   "execution_count": 10,
   "id": "de8231bf-5e5f-4a41-91af-54a11770001e",
   "metadata": {},
   "outputs": [
    {
     "name": "stdout",
     "output_type": "stream",
     "text": [
      "['Hii', 'this', 'is', 'the', 'ganesh', 'bodakhe']\n",
      "[('Hii', 'NNP'), ('this', 'DT'), ('is', 'VBZ'), ('the', 'DT'), ('ganesh', 'JJ'), ('bodakhe', 'NN')]\n"
     ]
    }
   ],
   "source": [
    "# \tPOS Tagging,\n",
    "from nltk import pos_tag\n",
    "list_arr=nltk.word_tokenize(doc.paragraphs[0].text)\n",
    "print(list_arr)\n",
    "print(pos_tag(list_arr))"
   ]
  },
  {
   "cell_type": "code",
   "execution_count": 12,
   "id": "29ad401a-1512-4bc7-b939-c24e76bef02c",
   "metadata": {},
   "outputs": [
    {
     "name": "stdout",
     "output_type": "stream",
     "text": [
      "['i', 'me', 'my', 'myself', 'we', 'our', 'ours', 'ourselves', 'you', \"you're\", \"you've\", \"you'll\", \"you'd\", 'your', 'yours', 'yourself', 'yourselves', 'he', 'him', 'his', 'himself', 'she', \"she's\", 'her', 'hers', 'herself', 'it', \"it's\", 'its', 'itself', 'they', 'them', 'their', 'theirs', 'themselves', 'what', 'which', 'who', 'whom', 'this', 'that', \"that'll\", 'these', 'those', 'am', 'is', 'are', 'was', 'were', 'be', 'been', 'being', 'have', 'has', 'had', 'having', 'do', 'does', 'did', 'doing', 'a', 'an', 'the', 'and', 'but', 'if', 'or', 'because', 'as', 'until', 'while', 'of', 'at', 'by', 'for', 'with', 'about', 'against', 'between', 'into', 'through', 'during', 'before', 'after', 'above', 'below', 'to', 'from', 'up', 'down', 'in', 'out', 'on', 'off', 'over', 'under', 'again', 'further', 'then', 'once', 'here', 'there', 'when', 'where', 'why', 'how', 'all', 'any', 'both', 'each', 'few', 'more', 'most', 'other', 'some', 'such', 'no', 'nor', 'not', 'only', 'own', 'same', 'so', 'than', 'too', 'very', 's', 't', 'can', 'will', 'just', 'don', \"don't\", 'should', \"should've\", 'now', 'd', 'll', 'm', 'o', 're', 've', 'y', 'ain', 'aren', \"aren't\", 'couldn', \"couldn't\", 'didn', \"didn't\", 'doesn', \"doesn't\", 'hadn', \"hadn't\", 'hasn', \"hasn't\", 'haven', \"haven't\", 'isn', \"isn't\", 'ma', 'mightn', \"mightn't\", 'mustn', \"mustn't\", 'needn', \"needn't\", 'shan', \"shan't\", 'shouldn', \"shouldn't\", 'wasn', \"wasn't\", 'weren', \"weren't\", 'won', \"won't\", 'wouldn', \"wouldn't\"]\n"
     ]
    }
   ],
   "source": [
    "#\tstop words removal\n",
    "from nltk.corpus import stopwords\n",
    "print(stopwords.words('english'))"
   ]
  },
  {
   "cell_type": "code",
   "execution_count": 16,
   "id": "274df793-62ad-4a31-9ae2-be00104d6121",
   "metadata": {},
   "outputs": [
    {
     "name": "stdout",
     "output_type": "stream",
     "text": [
      "['Hii', 'ganesh', 'bodakhe']\n"
     ]
    }
   ],
   "source": [
    "list_arr=nltk.word_tokenize(doc.paragraphs[0].text)\n",
    "tokenize_without_sw=[word for word in list_arr if word.lower() not in stopwords.words('english')]\n",
    "print(tokenize_without_sw)"
   ]
  },
  {
   "cell_type": "code",
   "execution_count": 18,
   "id": "dab11449-0204-495a-8a12-0e2c4f97b400",
   "metadata": {},
   "outputs": [
    {
     "name": "stdout",
     "output_type": "stream",
     "text": [
      "This  :  thi\n",
      "is  :  is\n",
      "sham  :  sham\n",
      "rajput  :  rajput\n",
      ".  :  .\n",
      "hii  :  hii\n",
      "raj  :  raj\n"
     ]
    }
   ],
   "source": [
    "# \tStemming and\n",
    "from nltk.stem import PorterStemmer\n",
    "from nltk.tokenize import word_tokenize\n",
    "ps=PorterStemmer()\n",
    "words=word_tokenize(\"This is sham rajput . hii raj\")\n",
    "for w in words:\n",
    "    print(w,\" : \",ps.stem(w));"
   ]
  },
  {
   "cell_type": "code",
   "execution_count": 22,
   "id": "8fd2d506-0b7f-4c84-98f6-c9c387a6e417",
   "metadata": {},
   "outputs": [
    {
     "name": "stdout",
     "output_type": "stream",
     "text": [
      "rocks  : rock\n"
     ]
    }
   ],
   "source": [
    "# \tLemmatization.\n",
    "from nltk.stem import WordNetLemmatizer\n",
    "lemmatizer=WordNetLemmatizer()\n",
    "print(\"rocks  :\" ,lemmatizer.lemmatize(\"rocks\"))"
   ]
  },
  {
   "cell_type": "code",
   "execution_count": null,
   "id": "746e1c04-c1a5-4a02-8017-4f159453db72",
   "metadata": {},
   "outputs": [],
   "source": []
  }
 ],
 "metadata": {
  "kernelspec": {
   "display_name": "Python 3 (ipykernel)",
   "language": "python",
   "name": "python3"
  },
  "language_info": {
   "codemirror_mode": {
    "name": "ipython",
    "version": 3
   },
   "file_extension": ".py",
   "mimetype": "text/x-python",
   "name": "python",
   "nbconvert_exporter": "python",
   "pygments_lexer": "ipython3",
   "version": "3.11.5"
  }
 },
 "nbformat": 4,
 "nbformat_minor": 5
}
